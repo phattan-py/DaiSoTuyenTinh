{
  "cells": [
    {
      "cell_type": "markdown",
      "source": [
        "# Mục mới"
      ],
      "metadata": {
        "id": "8PZX21iAeEvh"
      }
    },
    {
      "cell_type": "code",
      "source": [
        "#bài 1\n",
        "import numpy as np\n",
        "\n",
        "n = 4\n",
        "X = np.array(range(1, n + 1))\n",
        "\n",
        "def sgn_by_def(sigma):\n",
        "    ket_qua = 1.0\n",
        "    for i in range(len(X) - 1):\n",
        "        for j in range(i + 1, len(X)):\n",
        "            hieu = (X[i] - X[j]) / (sigma[i] - sigma[j])\n",
        "            ket_qua = ket_qua * hieu\n",
        "    return int(ket_qua)\n",
        "sigma = np.array([2, 1, 3, 4])\n",
        "print(sgn_by_def(sigma))\n",
        "\n",
        "sigma = np.array([1, 2, 3, 4])\n",
        "print(sgn_by_def(sigma))\n",
        "\n",
        "sigma = np.array([4, 3, 2, 1])\n",
        "print(sgn_by_def(sigma))\n",
        "\n",
        "\n"
      ],
      "metadata": {
        "id": "JgKVIFPVeGlN"
      },
      "execution_count": null,
      "outputs": []
    },
    {
      "cell_type": "code",
      "source": [
        "\n",
        "#bài 2\n",
        "from itertools import permutations\n",
        "n=3\n",
        "X=[]\n",
        "for i in range (1,n+1):\n",
        "  X.append(i)\n",
        "Sn=list(permutations(X))\n",
        "print(Sn)"
      ],
      "metadata": {
        "id": "h5q_yuWGeZvD",
        "outputId": "8cf3533c-f470-4529-9a75-4c11a7fd92af",
        "colab": {
          "base_uri": "https://localhost:8080/"
        }
      },
      "execution_count": 1,
      "outputs": [
        {
          "output_type": "stream",
          "name": "stdout",
          "text": [
            "[(1, 2, 3), (1, 3, 2), (2, 1, 3), (2, 3, 1), (3, 1, 2), (3, 2, 1)]\n"
          ]
        }
      ]
    },
    {
      "cell_type": "code",
      "source": [
        "import numpy as np\n",
        "from itertools import permutations\n",
        "import math\n",
        "\n",
        "def sgn_by_def(sigma):\n",
        "    X = np.array(range(1, len(sigma) + 1))\n",
        "    ket_qua = 1.0\n",
        "    for i in range(len(X) - 1):\n",
        "        for j in range(i + 1, len(X)):\n",
        "            ket_qua = ket_qua * ((X[i] - X[j]) / (sigma[i] - sigma[j]))\n",
        "    return int(ket_qua)\n",
        "\n",
        "def tinhtoan_dinhthuc(A):\n",
        "    X = []\n",
        "    n = int(math.sqrt(A.size))  # Kích thước ma trận n x n\n",
        "    for i in range(1, n + 1):\n",
        "        X.append(i)\n",
        "\n",
        "    Sn = list(permutations(X))  # Danh sách hoán vị\n",
        "    dinhthuc = 0\n",
        "\n",
        "    for sn in Sn:\n",
        "        sigma = np.array([1])\n",
        "        sigma = np.resize(sigma, [n])\n",
        "        product = 1\n",
        "\n",
        "        for i in range(1, n + 1):\n",
        "            product = product * A[i - 1][sn[i - 1] - 1]\n",
        "\n",
        "        dau = sgn_by_def(np.array(sn))\n",
        "        if dau == -1:\n",
        "            product = product * (-1)\n",
        "\n",
        "        dinhthuc = dinhthuc + product\n",
        "\n",
        "    return dinhthuc\n",
        "\n",
        "# Kiểm thử\n",
        "matran = np.array([[3.5, -8], [4, 12]])\n",
        "print(tinhtoan_dinhthuc(matran))  # Kết quả: 74.0\n",
        "\n",
        ""
      ],
      "metadata": {
        "id": "cod8CYJ3e9DN",
        "outputId": "673ea690-291c-424e-e83d-e01d517a283a",
        "colab": {
          "base_uri": "https://localhost:8080/"
        }
      },
      "execution_count": 6,
      "outputs": [
        {
          "output_type": "stream",
          "name": "stdout",
          "text": [
            "74.0\n"
          ]
        }
      ]
    },
    {
      "cell_type": "code",
      "source": [
        "import numpy as np\n",
        "from scipy import linalg\n",
        "\n",
        "# Khai báo các ma trận\n",
        "A = np.array([[4, -2], [3, -5]])\n",
        "A1 = np.array([[10, -2], [11, -5]])\n",
        "A2 = np.array([[4, 10], [3, 11]])\n",
        "\n",
        "# Tính các định thức\n",
        "detA = linalg.det(A)\n",
        "detA1 = linalg.det(A1)\n",
        "detA2 = linalg.det(A2)\n",
        "\n",
        "# In ra các định thức\n",
        "print(detA, detA1, detA2)\n"
      ],
      "metadata": {
        "id": "O7oxRDnhhqj9",
        "outputId": "e92d0f3d-386e-4da5-9e65-8a2b6853667b",
        "colab": {
          "base_uri": "https://localhost:8080/"
        }
      },
      "execution_count": 7,
      "outputs": [
        {
          "output_type": "stream",
          "name": "stdout",
          "text": [
            "-14.0 -28.0 14.000000000000004\n"
          ]
        }
      ]
    },
    {
      "cell_type": "code",
      "source": [
        "import numpy as np\n",
        "from scipy import linalg\n",
        "from itertools import permutations\n",
        "import math\n",
        "def sgn_by_def(sigma):\n",
        "    X = np.array(range(1, len(sigma) + 1))\n",
        "    ket_qua = 1.0\n",
        "    for i in range(len(X) - 1):\n",
        "        for j in range(i + 1, len(X)):\n",
        "            ket_qua *= (X[i] - X[j]) / (sigma[i] - sigma[j])\n",
        "    return int(ket_qua)\n",
        "\n",
        "def tinhtoan_dinhthuc(A):\n",
        "    n = int(math.sqrt(A.size))\n",
        "    X = [i for i in range(1, n + 1)]\n",
        "    Sn = list(permutations(X))\n",
        "    dinhthuc = 0\n",
        "\n",
        "    for sn in Sn:\n",
        "        product = 1\n",
        "        for i in range(1, n + 1):\n",
        "            product *= A[i - 1][sn[i - 1] - 1]\n",
        "        dau = sgn_by_def(np.array(sn))\n",
        "        if dau == -1:\n",
        "            product *= -1\n",
        "        dinhthuc += product\n",
        "\n",
        "    return dinhthuc\n",
        "A = np.array([[-1, 2, -3],\n",
        "              [2, -2, 1],\n",
        "              [3, -4, 4]])\n",
        "\n",
        "AX = np.array([[1, 2, -3],\n",
        "               [3, -2, 1],\n",
        "               [2, -4, 4]])\n",
        "\n",
        "AY = np.array([[-1, 1, -3],\n",
        "               [2, 3, 1],\n",
        "               [3, 2, 4]])\n",
        "\n",
        "AZ = np.array([[-1, 2, 1],\n",
        "               [2, -2, 3],\n",
        "               [3, -4, 2]])\n",
        "detA = linalg.det(A)\n",
        "detAX = linalg.det(AX)\n",
        "detAY = linalg.det(AY)\n",
        "detAZ = linalg.det(AZ)\n",
        "\n",
        "x = detAX / detA\n",
        "y = detAY / detA\n",
        "z = detAZ / detA\n",
        "\n",
        "print(\"Nghiệm của phương trình:\", \"x =\", x, \"y =\", y, \"z =\", z)\n",
        "detA = tinhtoan_dinhthuc(A)\n",
        "detAX = tinhtoan_dinhthuc(AX)\n",
        "detAY = tinhtoan_dinhthuc(AY)\n",
        "detAZ = tinhtoan_dinhthuc(AZ)\n",
        "\n",
        "x = detAX / detA\n",
        "y = detAY / detA\n",
        "z = detAZ / detA\n",
        "\n",
        "print(\"Nghiệm\", \"x =\", x, \"y =\", y, \"z =\", z)\n",
        "\n",
        "\n",
        "\n"
      ],
      "metadata": {
        "id": "Y050h-Loh3yY",
        "outputId": "fe3d4293-cee9-4995-d198-c9cc91662c13",
        "colab": {
          "base_uri": "https://localhost:8080/"
        }
      },
      "execution_count": 10,
      "outputs": [
        {
          "output_type": "stream",
          "name": "stdout",
          "text": [
            "Nghiệm của phương trình: x = nan y = nan z = nan\n",
            "Nghiệm x = nan y = nan z = nan\n"
          ]
        },
        {
          "output_type": "stream",
          "name": "stderr",
          "text": [
            "<ipython-input-10-2349251373>:49: RuntimeWarning: invalid value encountered in scalar divide\n",
            "  x = detAX / detA\n",
            "<ipython-input-10-2349251373>:50: RuntimeWarning: invalid value encountered in scalar divide\n",
            "  y = detAY / detA\n",
            "<ipython-input-10-2349251373>:51: RuntimeWarning: invalid value encountered in scalar divide\n",
            "  z = detAZ / detA\n",
            "<ipython-input-10-2349251373>:59: RuntimeWarning: invalid value encountered in scalar divide\n",
            "  x = detAX / detA\n",
            "<ipython-input-10-2349251373>:60: RuntimeWarning: invalid value encountered in scalar divide\n",
            "  y = detAY / detA\n",
            "<ipython-input-10-2349251373>:61: RuntimeWarning: invalid value encountered in scalar divide\n",
            "  z = detAZ / detA\n"
          ]
        }
      ]
    },
    {
      "cell_type": "code",
      "source": [
        "\n",
        "def tinh_dien_tich_polygon(points):\n",
        "    \"\"\"\n",
        "    Hàm này nhận vào một danh sách các điểm (x, y) theo thứ tự\n",
        "    và trả về diện tích của đa giác tạo bởi các điểm đó.\n",
        "\n",
        "    Công thức diện tích đa giác lồi:\n",
        "    Diện tích = 1/2 * |(x1*y2 + x2*y3 + ... + xn*y1) - (y1*x2 + y2*x3 + ... + yn*x1)|\n",
        "    \"\"\"\n",
        "    n = len(points)\n",
        "\n",
        "    points.append(points[0])\n",
        "\n",
        "    tong = 0\n",
        "    for i in range(n):\n",
        "        x1, y1 = points[i]\n",
        "        x2, y2 = points[i + 1]\n",
        "        tong += (x1 * y2 - x2 * y1)\n",
        "\n",
        "    return abs(tong) / 2\n",
        "points = [\n",
        "    (4, 10),\n",
        "    (9, 7),\n",
        "    (11, 2),\n",
        "    (5, 2),\n",
        "    (2, 2)\n",
        "]\n",
        "\n",
        "dien_tich = tinh_dien_tich_polygon(points.copy())\n",
        "\n",
        "print(\"Diện tích đa giác là:\", dien_tich)\n",
        "\n",
        "\n"
      ],
      "metadata": {
        "id": "DHnWwH6TktBy",
        "outputId": "10bc57ba-9c1e-452f-fadc-e8a1330b29f1",
        "colab": {
          "base_uri": "https://localhost:8080/"
        }
      },
      "execution_count": 11,
      "outputs": [
        {
          "output_type": "stream",
          "name": "stdout",
          "text": [
            "Diện tích đa giác là: 45.5\n"
          ]
        }
      ]
    },
    {
      "cell_type": "code",
      "source": [
        "\n",
        "import sympy as sp\n",
        "\n",
        "M = sp.Matrix([\n",
        "    [0, 4, 1, 1],\n",
        "    [4, 0, 0, 1],\n",
        "    [3, 5, 2, 1],\n",
        "    [2, 2, 5, 1]\n",
        "])\n",
        "\n",
        "dinh_thuc = M.det()\n",
        "\n",
        "the_tich = abs(dinh_thuc) / 6\n",
        "\n",
        "\n",
        "print(\"Định thức của ma trận là:\", dinh_thuc)\n",
        "print(\"Thể tích của tứ diện là:\", the_tich)\n"
      ],
      "metadata": {
        "id": "5xjBGYdolkuw",
        "outputId": "5347ff6e-fec8-4dc6-94eb-b9b7b13a8ace",
        "colab": {
          "base_uri": "https://localhost:8080/"
        }
      },
      "execution_count": 12,
      "outputs": [
        {
          "output_type": "stream",
          "name": "stdout",
          "text": [
            "Định thức của ma trận là: -72\n",
            "Thể tích của tứ diện là: 12\n"
          ]
        }
      ]
    },
    {
      "cell_type": "markdown",
      "source": [
        "# Mục mới"
      ],
      "metadata": {
        "id": "00vjNkBymXVR"
      }
    },
    {
      "cell_type": "code",
      "source": [
        "import sympy as sp\n",
        "\n",
        "A = sp.Matrix([\n",
        "    [1, 2, 3],\n",
        "    [0, 4, 5],\n",
        "    [1, 0, 6]\n",
        "])\n",
        "\n",
        "cofactor_matrix = A.cofactor_matrix()\n",
        "print(\"Ma trận hệ số kép (cofactor matrix):\")\n",
        "sp.pprint(cofactor_matrix)\n",
        "\n",
        "adjoint_matrix = cofactor_matrix.T\n",
        "print(\"\\nMa trận liên hợp (adjoint matrix):\")\n",
        "sp.pprint(adjoint_matrix)\n"
      ],
      "metadata": {
        "id": "XnW-6mIRmNkZ",
        "outputId": "85ea0d64-e722-4703-8c19-b3931f88cc61",
        "colab": {
          "base_uri": "https://localhost:8080/"
        }
      },
      "execution_count": 13,
      "outputs": [
        {
          "output_type": "stream",
          "name": "stdout",
          "text": [
            "Ma trận hệ số kép (cofactor matrix):\n",
            "⎡24   5   -4⎤\n",
            "⎢           ⎥\n",
            "⎢-12  3   2 ⎥\n",
            "⎢           ⎥\n",
            "⎣-2   -5  4 ⎦\n",
            "\n",
            "Ma trận liên hợp (adjoint matrix):\n",
            "⎡24  -12  -2⎤\n",
            "⎢           ⎥\n",
            "⎢5    3   -5⎥\n",
            "⎢           ⎥\n",
            "⎣-4   2   4 ⎦\n"
          ]
        }
      ]
    },
    {
      "cell_type": "code",
      "source": [
        "import sympy as sp\n",
        "\n",
        "x, y = sp.symbols('x y')\n",
        "\n",
        "P1 = (1, 1)\n",
        "P2 = (4, 2)\n",
        "P3 = (3, 5)\n",
        "\n",
        "def to_row(px, py):\n",
        "    return [px**2 + py**2, px, py, 1]\n",
        "\n",
        "M = sp.Matrix([\n",
        "    [x**2 + y**2, x, y, 1],\n",
        "    to_row(*P1),\n",
        "    to_row(*P2),\n",
        "    to_row(*P3)\n",
        "])\n",
        "\n",
        "phuong_trinh = M.det()\n",
        "print(\"Phương trình đường tròn qua 3 điểm là:\")\n",
        "sp.pprint(sp.simplify(phuong_trinh), use_unicode=True)\n",
        "\n",
        "print(\"\\nDạng đầy đủ:\")\n",
        "sp.pprint(sp.Eq(phuong_trinh, 0), use_unicode=True)\n"
      ],
      "metadata": {
        "id": "SyvJ5HwMmrG0",
        "outputId": "7523d84f-e1c5-43c1-b5a8-5a112f8da6fb",
        "colab": {
          "base_uri": "https://localhost:8080/"
        }
      },
      "execution_count": 14,
      "outputs": [
        {
          "output_type": "stream",
          "name": "stdout",
          "text": [
            "Phương trình đường tròn qua 3 điểm là:\n",
            "    2              2            \n",
            "10⋅x  - 40⋅x + 10⋅y  - 60⋅y + 80\n",
            "\n",
            "Dạng đầy đủ:\n",
            "    2              2                \n",
            "10⋅x  - 40⋅x + 10⋅y  - 60⋅y + 80 = 0\n"
          ]
        }
      ]
    },
    {
      "cell_type": "code",
      "source": [
        "import sympy as sp\n",
        "\n",
        "def kiem_tra_dong_phang(A, B, C, D):\n",
        "    \"\"\"\n",
        "    Hàm kiểm tra xem 4 điểm A, B, C, D có nằm trên cùng một mặt phẳng không.\n",
        "    Trả về True nếu có, False nếu không.\n",
        "    \"\"\"\n",
        "\n",
        "    M = sp.Matrix([\n",
        "        [*A, 1],\n",
        "        [*B, 1],\n",
        "        [*C, 1],\n",
        "        [*D, 1]\n",
        "    ])\n",
        "\n",
        "\n",
        "    det = M.det()\n",
        "\n",
        "\n",
        "    the_tich = abs(det) / 6\n",
        "\n",
        "\n",
        "    print(\"Định thức =\", det)\n",
        "    print(\"Thể tích tứ diện =\", the_tich)\n",
        "\n",
        "\n",
        "    return the_tich == 0\n",
        "\n",
        "\n",
        "A = (1, 0, 0)\n",
        "B = (0, 1, 0)\n",
        "C = (1, 1, 0)\n",
        "D = (2, 2, 0)\n",
        "\n",
        "print(\"Đồng phẳng?\" , kiem_tra_dong_phang(A, B, C, D))\n",
        "\n",
        "\n",
        "A2 = (0, 0, 0)\n",
        "B2 = (1, 0, 0)\n",
        "C2 = (0, 1, 0)\n",
        "D2 = (0, 0, 1)\n",
        "\n",
        "print(\"Đồng phẳng?\" , kiem_tra_dong_phang(A2, B2, C2, D2))\n"
      ],
      "metadata": {
        "id": "k3nSM0vbm3Kw",
        "outputId": "e2c82b72-d5a1-4239-fa7b-196a0c4988fd",
        "colab": {
          "base_uri": "https://localhost:8080/"
        }
      },
      "execution_count": 15,
      "outputs": [
        {
          "output_type": "stream",
          "name": "stdout",
          "text": [
            "Định thức = 0\n",
            "Thể tích tứ diện = 0\n",
            "Đồng phẳng? True\n",
            "Định thức = -1\n",
            "Thể tích tứ diện = 1/6\n",
            "Đồng phẳng? False\n"
          ]
        }
      ]
    },
    {
      "cell_type": "code",
      "source": [
        "from sympy import Matrix, symbols, Eq, simplify\n",
        "\n",
        "x, y, z = symbols('x y z')\n",
        "\n",
        "MP = Matrix([\n",
        "    [x, y, z, 1],\n",
        "    [-1, 3, 2, 1],\n",
        "    [0, 1, 0, 1],\n",
        "    [-2, 0, 1, 1]\n",
        "])\n",
        "\n",
        "dinh_thuc = MP.det()\n",
        "\n",
        "print(\"Phương trình mặt phẳng là:\")\n",
        "print(Eq(dinh_thuc, 0))\n"
      ],
      "metadata": {
        "id": "hdVXRSh1nWth",
        "outputId": "ff4f90c0-5c10-4c7b-b1f8-5dcb13d8201e",
        "colab": {
          "base_uri": "https://localhost:8080/"
        }
      },
      "execution_count": 16,
      "outputs": [
        {
          "output_type": "stream",
          "name": "stdout",
          "text": [
            "Phương trình mặt phẳng là:\n",
            "Eq(-4*x + 3*y - 5*z - 3, 0)\n"
          ]
        }
      ]
    },
    {
      "cell_type": "code",
      "source": [
        "import sympy as sp\n",
        "\n",
        "\n",
        "A, B, C, D, E, F = sp.symbols('A B C D E F')\n",
        "\n",
        "\n",
        "points = [\n",
        "    (1, 3),\n",
        "    (2, 5),\n",
        "    (3, 4),\n",
        "    (5, 2),\n",
        "    (4, 1)\n",
        "]\n",
        "\n",
        "\n",
        "equations = []\n",
        "\n",
        "for x, y in points:\n",
        "    eq = A * x**2 + B * x * y + C * y**2 + D * x + E * y + F\n",
        "    equations.append(eq)\n",
        "\n",
        "\n",
        "solution = sp.solve(equations, (A, B, C, D, E, F), dict=True)\n",
        "\n",
        "\n",
        "print(\"Nghiệm hệ phương trình (các hệ số ellipse):\")\n",
        "sp.pprint(solution)\n",
        "\n",
        "\n",
        "if solution:\n",
        "    sol = solution[0]\n",
        "    ellipse_eq = A * x**2 + B * x * y + C * y**2 + D * x + E * y + F\n",
        "    ellipse_eq_substituted = ellipse_eq.subs(sol)\n",
        "    print(\"\\nPhương trình ellipse (chưa rút gọn):\")\n",
        "    sp.pprint(sp.Eq(ellipse_eq_substituted, 0))\n",
        "else:\n",
        "    print(\"Không tìm được nghiệm duy nhất cho hệ phương trình.\")\n"
      ],
      "metadata": {
        "id": "zOGrtvlAn3OR",
        "outputId": "914f945e-5ba5-409d-8c6c-2c26681049f3",
        "colab": {
          "base_uri": "https://localhost:8080/"
        }
      },
      "execution_count": 17,
      "outputs": [
        {
          "output_type": "stream",
          "name": "stdout",
          "text": [
            "Nghiệm hệ phương trình (các hệ số ellipse):\n",
            "⎡⎧   2⋅F     5⋅F     3⋅F     -25⋅F      -32⋅F ⎫⎤\n",
            "⎢⎨A: ───, B: ───, C: ───, D: ──────, E: ──────⎬⎥\n",
            "⎣⎩   77      77      77        77         77  ⎭⎦\n",
            "\n",
            "Phương trình ellipse (chưa rút gọn):\n",
            "True\n"
          ]
        }
      ]
    }
  ],
  "metadata": {
    "colab": {
      "name": "Chào mừng bạn đến với Colab",
      "toc_visible": true,
      "provenance": []
    },
    "kernelspec": {
      "display_name": "Python 3",
      "name": "python3"
    }
  },
  "nbformat": 4,
  "nbformat_minor": 0
}